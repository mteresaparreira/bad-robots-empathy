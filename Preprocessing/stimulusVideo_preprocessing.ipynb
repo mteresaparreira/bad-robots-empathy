{
 "cells": [
  {
   "cell_type": "code",
   "execution_count": 1,
   "id": "32582aab",
   "metadata": {},
   "outputs": [],
   "source": [
    "import os\n",
    "from moviepy.editor import VideoFileClip\n",
    "from moviepy.editor import *"
   ]
  },
  {
   "cell_type": "markdown",
   "id": "3f97f601",
   "metadata": {},
   "source": [
    "Installing MoviePy - check out the documentation at - [LINK](https://zulko.github.io/moviepy/install.html)\n",
    "\n",
    "The Library 'MoviePy' may not work having installed through pip. If that is the case, try installing it using 'Home Brew' for mac. "
   ]
  },
  {
   "cell_type": "code",
   "execution_count": 2,
   "id": "5f617fd7",
   "metadata": {},
   "outputs": [],
   "source": [
    "import pandas as pd\n",
    "import numpy as np"
   ]
  },
  {
   "cell_type": "markdown",
   "id": "39e24f6d",
   "metadata": {},
   "source": [
    "## Identifying the Shortlisted Videos from the Dataset"
   ]
  },
  {
   "cell_type": "markdown",
   "id": "9399b879",
   "metadata": {},
   "source": [
    "The code below is written based on the 'New Stimuls Dataset Information' schema as per April 2023. You may want to change few things based on the current dataset schema"
   ]
  },
  {
   "cell_type": "code",
   "execution_count": 46,
   "id": "9295ef65",
   "metadata": {},
   "outputs": [],
   "source": [
    "df = pd.read_excel('New_Stimulus_Dataset_Information.xlsx')"
   ]
  },
  {
   "cell_type": "code",
   "execution_count": 47,
   "id": "14d277df",
   "metadata": {},
   "outputs": [],
   "source": [
    "Class = {'Human Failure': ['Failure (H)', 'fh'],\n",
    "          'Robot Failure' : ['Failure (R)', 'fr'],\n",
    "          'Human Control' : ['Control (H)', 'ch'],\n",
    "          'Robot Control': ['Control (R)', 'cr']}"
   ]
  },
  {
   "cell_type": "code",
   "execution_count": 48,
   "id": "fbc93f35",
   "metadata": {},
   "outputs": [
    {
     "name": "stdout",
     "output_type": "stream",
     "text": [
      "1. Human Failure \n",
      "2. Robot Failure \n",
      "3. Human Control \n",
      "4. Robot Control \n",
      "\n",
      "Human Control\n"
     ]
    }
   ],
   "source": [
    "selectedClass = input('1. Human Failure \\n2. Robot Failure \\n3. Human Control \\n4. Robot Control \\n\\n')"
   ]
  },
  {
   "cell_type": "code",
   "execution_count": 49,
   "id": "4e0a7d0f",
   "metadata": {},
   "outputs": [
    {
     "name": "stdout",
     "output_type": "stream",
     "text": [
      "[29 43 60 62]\n"
     ]
    }
   ],
   "source": [
    "row_indices = np.where(df['Final Count'].values == Class[selectedClass][0])[0]\n",
    "print(row_indices)"
   ]
  },
  {
   "cell_type": "code",
   "execution_count": 50,
   "id": "bcdd98b4",
   "metadata": {},
   "outputs": [],
   "source": [
    "videoNames = []\n",
    "\n",
    "for row_idx in row_indices:\n",
    "    videoNames.append(df.loc[row_idx, 'Stimulus Video '])"
   ]
  },
  {
   "cell_type": "code",
   "execution_count": 51,
   "id": "5aa16433",
   "metadata": {},
   "outputs": [
    {
     "name": "stdout",
     "output_type": "stream",
     "text": [
      "['c2.mp4', 'c16.mov', 'S6.mov', 'S9.mov']\n"
     ]
    }
   ],
   "source": [
    "print(videoNames)"
   ]
  },
  {
   "cell_type": "markdown",
   "id": "2cb02681",
   "metadata": {},
   "source": [
    "## Audio Removal Processing and Naming"
   ]
  },
  {
   "cell_type": "code",
   "execution_count": 52,
   "id": "86567d59",
   "metadata": {},
   "outputs": [],
   "source": [
    "# # Sample\n",
    "# videoClip = VideoFileClip(\"/Users/sukruthgl/Desktop/Spring/CS 5999 - MEng Project/Stimulus Dataset/New Dataset/Final Shortlisted Videos [Human + Robot -- Control + Failure]/31 Senior Citizen Fails - FailArmy Hall of Fame (September 2017)13.mp4\")\n",
    "# noAudioClip = videoClip.without_audio()\n",
    "# noAudioClip.write_videofile(\"noAudio.mp4\")"
   ]
  },
  {
   "cell_type": "markdown",
   "id": "a9645f33",
   "metadata": {},
   "source": [
    "Change the path of the 'directory' appropriately to choose the videos based on the class of the videos to be edited"
   ]
  },
  {
   "cell_type": "code",
   "execution_count": 53,
   "id": "a78507f0",
   "metadata": {},
   "outputs": [],
   "source": [
    "directory = '/Users/sukruthgl/Desktop/Spring/CS 5999 - MEng Project/Stimulus Dataset/New Dataset/Control Videos'\n",
    "newDirectory = '/Users/sukruthgl/Desktop/Spring/CS 5999 - MEng Project/Stimulus Dataset/New Dataset/Final Shortlisted Videos [Human + Robot -- Control + Failure]'"
   ]
  },
  {
   "cell_type": "code",
   "execution_count": 54,
   "id": "bec086d9",
   "metadata": {},
   "outputs": [],
   "source": [
    "# The videos for which the audio has to be removed\n",
    "elements = videoNames"
   ]
  },
  {
   "cell_type": "code",
   "execution_count": null,
   "id": "a7643526",
   "metadata": {},
   "outputs": [],
   "source": [
    "for element in range(len(elements)):\n",
    "#     print (element)\n",
    "    videoClip = VideoFileClip(f\"{directory}/{elements[element]}\")\n",
    "    noAudioClip = videoClip.without_audio()\n",
    "    noAudioClip.write_videofile(f\"{newDirectory}/{Class[selectedClass][1]}{element+1}.mp4\")"
   ]
  },
  {
   "cell_type": "markdown",
   "id": "84b4c818",
   "metadata": {},
   "source": [
    "## Lag addition - Black Screen"
   ]
  },
  {
   "cell_type": "code",
   "execution_count": 41,
   "id": "62b1f066",
   "metadata": {},
   "outputs": [],
   "source": [
    "elements = sorted(os.listdir(newDirectory))\n",
    "# print(len(elements))\n",
    "# print('\\n'.join(sorted(elements)))"
   ]
  },
  {
   "cell_type": "markdown",
   "id": "f3c53d3b",
   "metadata": {},
   "source": [
    "If a .mp4 video file format is read and it is then converted or made any modifications to - to add the black screen, upon writing the file to local disk, the video files are corrupted - where the frames are frozen.\n",
    "\n",
    "To fix this, try converting your input video to a different format or codec before processing it with moviepy. You can use a tool like FFmpeg to convert the video. For example, you can try converting the video to H.264 format using the following command: ffmpeg -i input.mp4 -c:v libx264 -preset slow -crf 22 -c:a copy output.mp4.\n",
    "\n",
    "On mac - you can convert it into H.264 by right-clicking on the video file and selecting 'Encode Selected Video File' - and choosing the H.264 format."
   ]
  },
  {
   "cell_type": "code",
   "execution_count": 40,
   "id": "d5011f36",
   "metadata": {},
   "outputs": [
    {
     "name": "stdout",
     "output_type": "stream",
     "text": [
      "ch1\n",
      "Moviepy - Building video /Users/sukruthgl/Desktop/Spring/CS 5999 - MEng Project/Stimulus Dataset/New Dataset/Final Shortlisted Videos [Human + Robot -- Control + Failure]/withLag/ch1.mp4.\n",
      "Moviepy - Writing video /Users/sukruthgl/Desktop/Spring/CS 5999 - MEng Project/Stimulus Dataset/New Dataset/Final Shortlisted Videos [Human + Robot -- Control + Failure]/withLag/ch1.mp4\n",
      "\n"
     ]
    },
    {
     "name": "stderr",
     "output_type": "stream",
     "text": [
      "                                                                                \r"
     ]
    },
    {
     "name": "stdout",
     "output_type": "stream",
     "text": [
      "Moviepy - Done !\n",
      "Moviepy - video ready /Users/sukruthgl/Desktop/Spring/CS 5999 - MEng Project/Stimulus Dataset/New Dataset/Final Shortlisted Videos [Human + Robot -- Control + Failure]/withLag/ch1.mp4\n",
      "ch2\n",
      "Moviepy - Building video /Users/sukruthgl/Desktop/Spring/CS 5999 - MEng Project/Stimulus Dataset/New Dataset/Final Shortlisted Videos [Human + Robot -- Control + Failure]/withLag/ch2.mp4.\n",
      "Moviepy - Writing video /Users/sukruthgl/Desktop/Spring/CS 5999 - MEng Project/Stimulus Dataset/New Dataset/Final Shortlisted Videos [Human + Robot -- Control + Failure]/withLag/ch2.mp4\n",
      "\n"
     ]
    },
    {
     "name": "stderr",
     "output_type": "stream",
     "text": [
      "                                                                                \r"
     ]
    },
    {
     "name": "stdout",
     "output_type": "stream",
     "text": [
      "Moviepy - Done !\n",
      "Moviepy - video ready /Users/sukruthgl/Desktop/Spring/CS 5999 - MEng Project/Stimulus Dataset/New Dataset/Final Shortlisted Videos [Human + Robot -- Control + Failure]/withLag/ch2.mp4\n",
      "ch3\n",
      "Moviepy - Building video /Users/sukruthgl/Desktop/Spring/CS 5999 - MEng Project/Stimulus Dataset/New Dataset/Final Shortlisted Videos [Human + Robot -- Control + Failure]/withLag/ch3.mp4.\n",
      "Moviepy - Writing video /Users/sukruthgl/Desktop/Spring/CS 5999 - MEng Project/Stimulus Dataset/New Dataset/Final Shortlisted Videos [Human + Robot -- Control + Failure]/withLag/ch3.mp4\n",
      "\n"
     ]
    },
    {
     "name": "stderr",
     "output_type": "stream",
     "text": [
      "                                                                                \r"
     ]
    },
    {
     "name": "stdout",
     "output_type": "stream",
     "text": [
      "Moviepy - Done !\n",
      "Moviepy - video ready /Users/sukruthgl/Desktop/Spring/CS 5999 - MEng Project/Stimulus Dataset/New Dataset/Final Shortlisted Videos [Human + Robot -- Control + Failure]/withLag/ch3.mp4\n",
      "ch4\n",
      "Moviepy - Building video /Users/sukruthgl/Desktop/Spring/CS 5999 - MEng Project/Stimulus Dataset/New Dataset/Final Shortlisted Videos [Human + Robot -- Control + Failure]/withLag/ch4.mp4.\n",
      "Moviepy - Writing video /Users/sukruthgl/Desktop/Spring/CS 5999 - MEng Project/Stimulus Dataset/New Dataset/Final Shortlisted Videos [Human + Robot -- Control + Failure]/withLag/ch4.mp4\n",
      "\n"
     ]
    },
    {
     "name": "stderr",
     "output_type": "stream",
     "text": [
      "                                                                                \r"
     ]
    },
    {
     "name": "stdout",
     "output_type": "stream",
     "text": [
      "Moviepy - Done !\n",
      "Moviepy - video ready /Users/sukruthgl/Desktop/Spring/CS 5999 - MEng Project/Stimulus Dataset/New Dataset/Final Shortlisted Videos [Human + Robot -- Control + Failure]/withLag/ch4.mp4\n",
      "ch5\n",
      "Moviepy - Building video /Users/sukruthgl/Desktop/Spring/CS 5999 - MEng Project/Stimulus Dataset/New Dataset/Final Shortlisted Videos [Human + Robot -- Control + Failure]/withLag/ch5.mp4.\n",
      "Moviepy - Writing video /Users/sukruthgl/Desktop/Spring/CS 5999 - MEng Project/Stimulus Dataset/New Dataset/Final Shortlisted Videos [Human + Robot -- Control + Failure]/withLag/ch5.mp4\n",
      "\n"
     ]
    },
    {
     "name": "stderr",
     "output_type": "stream",
     "text": [
      "                                                                                \r"
     ]
    },
    {
     "name": "stdout",
     "output_type": "stream",
     "text": [
      "Moviepy - Done !\n",
      "Moviepy - video ready /Users/sukruthgl/Desktop/Spring/CS 5999 - MEng Project/Stimulus Dataset/New Dataset/Final Shortlisted Videos [Human + Robot -- Control + Failure]/withLag/ch5.mp4\n",
      "cr1\n",
      "Moviepy - Building video /Users/sukruthgl/Desktop/Spring/CS 5999 - MEng Project/Stimulus Dataset/New Dataset/Final Shortlisted Videos [Human + Robot -- Control + Failure]/withLag/cr1.mp4.\n",
      "Moviepy - Writing video /Users/sukruthgl/Desktop/Spring/CS 5999 - MEng Project/Stimulus Dataset/New Dataset/Final Shortlisted Videos [Human + Robot -- Control + Failure]/withLag/cr1.mp4\n",
      "\n"
     ]
    },
    {
     "name": "stderr",
     "output_type": "stream",
     "text": [
      "                                                                                \r"
     ]
    },
    {
     "name": "stdout",
     "output_type": "stream",
     "text": [
      "Moviepy - Done !\n",
      "Moviepy - video ready /Users/sukruthgl/Desktop/Spring/CS 5999 - MEng Project/Stimulus Dataset/New Dataset/Final Shortlisted Videos [Human + Robot -- Control + Failure]/withLag/cr1.mp4\n",
      "cr2\n",
      "Moviepy - Building video /Users/sukruthgl/Desktop/Spring/CS 5999 - MEng Project/Stimulus Dataset/New Dataset/Final Shortlisted Videos [Human + Robot -- Control + Failure]/withLag/cr2.mp4.\n",
      "Moviepy - Writing video /Users/sukruthgl/Desktop/Spring/CS 5999 - MEng Project/Stimulus Dataset/New Dataset/Final Shortlisted Videos [Human + Robot -- Control + Failure]/withLag/cr2.mp4\n",
      "\n"
     ]
    },
    {
     "name": "stderr",
     "output_type": "stream",
     "text": [
      "                                                                                \r"
     ]
    },
    {
     "name": "stdout",
     "output_type": "stream",
     "text": [
      "Moviepy - Done !\n",
      "Moviepy - video ready /Users/sukruthgl/Desktop/Spring/CS 5999 - MEng Project/Stimulus Dataset/New Dataset/Final Shortlisted Videos [Human + Robot -- Control + Failure]/withLag/cr2.mp4\n",
      "cr3\n",
      "Moviepy - Building video /Users/sukruthgl/Desktop/Spring/CS 5999 - MEng Project/Stimulus Dataset/New Dataset/Final Shortlisted Videos [Human + Robot -- Control + Failure]/withLag/cr3.mp4.\n",
      "Moviepy - Writing video /Users/sukruthgl/Desktop/Spring/CS 5999 - MEng Project/Stimulus Dataset/New Dataset/Final Shortlisted Videos [Human + Robot -- Control + Failure]/withLag/cr3.mp4\n",
      "\n"
     ]
    },
    {
     "name": "stderr",
     "output_type": "stream",
     "text": [
      "                                                                                \r"
     ]
    },
    {
     "name": "stdout",
     "output_type": "stream",
     "text": [
      "Moviepy - Done !\n",
      "Moviepy - video ready /Users/sukruthgl/Desktop/Spring/CS 5999 - MEng Project/Stimulus Dataset/New Dataset/Final Shortlisted Videos [Human + Robot -- Control + Failure]/withLag/cr3.mp4\n",
      "cr4\n",
      "Moviepy - Building video /Users/sukruthgl/Desktop/Spring/CS 5999 - MEng Project/Stimulus Dataset/New Dataset/Final Shortlisted Videos [Human + Robot -- Control + Failure]/withLag/cr4.mp4.\n",
      "Moviepy - Writing video /Users/sukruthgl/Desktop/Spring/CS 5999 - MEng Project/Stimulus Dataset/New Dataset/Final Shortlisted Videos [Human + Robot -- Control + Failure]/withLag/cr4.mp4\n",
      "\n"
     ]
    },
    {
     "name": "stderr",
     "output_type": "stream",
     "text": [
      "                                                                                \r"
     ]
    },
    {
     "name": "stdout",
     "output_type": "stream",
     "text": [
      "Moviepy - Done !\n",
      "Moviepy - video ready /Users/sukruthgl/Desktop/Spring/CS 5999 - MEng Project/Stimulus Dataset/New Dataset/Final Shortlisted Videos [Human + Robot -- Control + Failure]/withLag/cr4.mp4\n",
      "cr5\n",
      "Moviepy - Building video /Users/sukruthgl/Desktop/Spring/CS 5999 - MEng Project/Stimulus Dataset/New Dataset/Final Shortlisted Videos [Human + Robot -- Control + Failure]/withLag/cr5.mp4.\n",
      "Moviepy - Writing video /Users/sukruthgl/Desktop/Spring/CS 5999 - MEng Project/Stimulus Dataset/New Dataset/Final Shortlisted Videos [Human + Robot -- Control + Failure]/withLag/cr5.mp4\n",
      "\n"
     ]
    },
    {
     "name": "stderr",
     "output_type": "stream",
     "text": [
      "                                                                                \r"
     ]
    },
    {
     "name": "stdout",
     "output_type": "stream",
     "text": [
      "Moviepy - Done !\n",
      "Moviepy - video ready /Users/sukruthgl/Desktop/Spring/CS 5999 - MEng Project/Stimulus Dataset/New Dataset/Final Shortlisted Videos [Human + Robot -- Control + Failure]/withLag/cr5.mp4\n",
      "fh1\n",
      "Moviepy - Building video /Users/sukruthgl/Desktop/Spring/CS 5999 - MEng Project/Stimulus Dataset/New Dataset/Final Shortlisted Videos [Human + Robot -- Control + Failure]/withLag/fh1.mp4.\n",
      "Moviepy - Writing video /Users/sukruthgl/Desktop/Spring/CS 5999 - MEng Project/Stimulus Dataset/New Dataset/Final Shortlisted Videos [Human + Robot -- Control + Failure]/withLag/fh1.mp4\n",
      "\n"
     ]
    },
    {
     "name": "stderr",
     "output_type": "stream",
     "text": [
      "                                                                                \r"
     ]
    },
    {
     "name": "stdout",
     "output_type": "stream",
     "text": [
      "Moviepy - Done !\n",
      "Moviepy - video ready /Users/sukruthgl/Desktop/Spring/CS 5999 - MEng Project/Stimulus Dataset/New Dataset/Final Shortlisted Videos [Human + Robot -- Control + Failure]/withLag/fh1.mp4\n",
      "fh10\n",
      "Moviepy - Building video /Users/sukruthgl/Desktop/Spring/CS 5999 - MEng Project/Stimulus Dataset/New Dataset/Final Shortlisted Videos [Human + Robot -- Control + Failure]/withLag/fh10.mp4.\n",
      "Moviepy - Writing video /Users/sukruthgl/Desktop/Spring/CS 5999 - MEng Project/Stimulus Dataset/New Dataset/Final Shortlisted Videos [Human + Robot -- Control + Failure]/withLag/fh10.mp4\n",
      "\n"
     ]
    },
    {
     "name": "stderr",
     "output_type": "stream",
     "text": [
      "                                                                                \r"
     ]
    },
    {
     "name": "stdout",
     "output_type": "stream",
     "text": [
      "Moviepy - Done !\n",
      "Moviepy - video ready /Users/sukruthgl/Desktop/Spring/CS 5999 - MEng Project/Stimulus Dataset/New Dataset/Final Shortlisted Videos [Human + Robot -- Control + Failure]/withLag/fh10.mp4\n",
      "fh2\n",
      "Moviepy - Building video /Users/sukruthgl/Desktop/Spring/CS 5999 - MEng Project/Stimulus Dataset/New Dataset/Final Shortlisted Videos [Human + Robot -- Control + Failure]/withLag/fh2.mp4.\n",
      "Moviepy - Writing video /Users/sukruthgl/Desktop/Spring/CS 5999 - MEng Project/Stimulus Dataset/New Dataset/Final Shortlisted Videos [Human + Robot -- Control + Failure]/withLag/fh2.mp4\n",
      "\n"
     ]
    },
    {
     "name": "stderr",
     "output_type": "stream",
     "text": [
      "                                                                                \r"
     ]
    },
    {
     "name": "stdout",
     "output_type": "stream",
     "text": [
      "Moviepy - Done !\n",
      "Moviepy - video ready /Users/sukruthgl/Desktop/Spring/CS 5999 - MEng Project/Stimulus Dataset/New Dataset/Final Shortlisted Videos [Human + Robot -- Control + Failure]/withLag/fh2.mp4\n",
      "fh3\n",
      "Moviepy - Building video /Users/sukruthgl/Desktop/Spring/CS 5999 - MEng Project/Stimulus Dataset/New Dataset/Final Shortlisted Videos [Human + Robot -- Control + Failure]/withLag/fh3.mp4.\n",
      "Moviepy - Writing video /Users/sukruthgl/Desktop/Spring/CS 5999 - MEng Project/Stimulus Dataset/New Dataset/Final Shortlisted Videos [Human + Robot -- Control + Failure]/withLag/fh3.mp4\n",
      "\n"
     ]
    },
    {
     "name": "stderr",
     "output_type": "stream",
     "text": [
      "                                                                                \r"
     ]
    },
    {
     "name": "stdout",
     "output_type": "stream",
     "text": [
      "Moviepy - Done !\n",
      "Moviepy - video ready /Users/sukruthgl/Desktop/Spring/CS 5999 - MEng Project/Stimulus Dataset/New Dataset/Final Shortlisted Videos [Human + Robot -- Control + Failure]/withLag/fh3.mp4\n",
      "fh4\n",
      "Moviepy - Building video /Users/sukruthgl/Desktop/Spring/CS 5999 - MEng Project/Stimulus Dataset/New Dataset/Final Shortlisted Videos [Human + Robot -- Control + Failure]/withLag/fh4.mp4.\n",
      "Moviepy - Writing video /Users/sukruthgl/Desktop/Spring/CS 5999 - MEng Project/Stimulus Dataset/New Dataset/Final Shortlisted Videos [Human + Robot -- Control + Failure]/withLag/fh4.mp4\n",
      "\n"
     ]
    },
    {
     "name": "stderr",
     "output_type": "stream",
     "text": [
      "                                                                                \r"
     ]
    },
    {
     "name": "stdout",
     "output_type": "stream",
     "text": [
      "Moviepy - Done !\n",
      "Moviepy - video ready /Users/sukruthgl/Desktop/Spring/CS 5999 - MEng Project/Stimulus Dataset/New Dataset/Final Shortlisted Videos [Human + Robot -- Control + Failure]/withLag/fh4.mp4\n",
      "fh5\n",
      "Moviepy - Building video /Users/sukruthgl/Desktop/Spring/CS 5999 - MEng Project/Stimulus Dataset/New Dataset/Final Shortlisted Videos [Human + Robot -- Control + Failure]/withLag/fh5.mp4.\n",
      "Moviepy - Writing video /Users/sukruthgl/Desktop/Spring/CS 5999 - MEng Project/Stimulus Dataset/New Dataset/Final Shortlisted Videos [Human + Robot -- Control + Failure]/withLag/fh5.mp4\n",
      "\n"
     ]
    },
    {
     "name": "stderr",
     "output_type": "stream",
     "text": [
      "                                                                                \r"
     ]
    },
    {
     "name": "stdout",
     "output_type": "stream",
     "text": [
      "Moviepy - Done !\n",
      "Moviepy - video ready /Users/sukruthgl/Desktop/Spring/CS 5999 - MEng Project/Stimulus Dataset/New Dataset/Final Shortlisted Videos [Human + Robot -- Control + Failure]/withLag/fh5.mp4\n",
      "fh6\n",
      "Moviepy - Building video /Users/sukruthgl/Desktop/Spring/CS 5999 - MEng Project/Stimulus Dataset/New Dataset/Final Shortlisted Videos [Human + Robot -- Control + Failure]/withLag/fh6.mp4.\n",
      "Moviepy - Writing video /Users/sukruthgl/Desktop/Spring/CS 5999 - MEng Project/Stimulus Dataset/New Dataset/Final Shortlisted Videos [Human + Robot -- Control + Failure]/withLag/fh6.mp4\n",
      "\n"
     ]
    },
    {
     "name": "stderr",
     "output_type": "stream",
     "text": [
      "                                                                                \r"
     ]
    },
    {
     "name": "stdout",
     "output_type": "stream",
     "text": [
      "Moviepy - Done !\n",
      "Moviepy - video ready /Users/sukruthgl/Desktop/Spring/CS 5999 - MEng Project/Stimulus Dataset/New Dataset/Final Shortlisted Videos [Human + Robot -- Control + Failure]/withLag/fh6.mp4\n",
      "fh7\n",
      "Moviepy - Building video /Users/sukruthgl/Desktop/Spring/CS 5999 - MEng Project/Stimulus Dataset/New Dataset/Final Shortlisted Videos [Human + Robot -- Control + Failure]/withLag/fh7.mp4.\n",
      "Moviepy - Writing video /Users/sukruthgl/Desktop/Spring/CS 5999 - MEng Project/Stimulus Dataset/New Dataset/Final Shortlisted Videos [Human + Robot -- Control + Failure]/withLag/fh7.mp4\n",
      "\n"
     ]
    },
    {
     "name": "stderr",
     "output_type": "stream",
     "text": [
      "                                                                                \r"
     ]
    },
    {
     "name": "stdout",
     "output_type": "stream",
     "text": [
      "Moviepy - Done !\n",
      "Moviepy - video ready /Users/sukruthgl/Desktop/Spring/CS 5999 - MEng Project/Stimulus Dataset/New Dataset/Final Shortlisted Videos [Human + Robot -- Control + Failure]/withLag/fh7.mp4\n",
      "fh8\n",
      "Moviepy - Building video /Users/sukruthgl/Desktop/Spring/CS 5999 - MEng Project/Stimulus Dataset/New Dataset/Final Shortlisted Videos [Human + Robot -- Control + Failure]/withLag/fh8.mp4.\n",
      "Moviepy - Writing video /Users/sukruthgl/Desktop/Spring/CS 5999 - MEng Project/Stimulus Dataset/New Dataset/Final Shortlisted Videos [Human + Robot -- Control + Failure]/withLag/fh8.mp4\n",
      "\n"
     ]
    },
    {
     "name": "stderr",
     "output_type": "stream",
     "text": [
      "                                                                                \r"
     ]
    },
    {
     "name": "stdout",
     "output_type": "stream",
     "text": [
      "Moviepy - Done !\n",
      "Moviepy - video ready /Users/sukruthgl/Desktop/Spring/CS 5999 - MEng Project/Stimulus Dataset/New Dataset/Final Shortlisted Videos [Human + Robot -- Control + Failure]/withLag/fh8.mp4\n",
      "fh9\n",
      "Moviepy - Building video /Users/sukruthgl/Desktop/Spring/CS 5999 - MEng Project/Stimulus Dataset/New Dataset/Final Shortlisted Videos [Human + Robot -- Control + Failure]/withLag/fh9.mp4.\n",
      "Moviepy - Writing video /Users/sukruthgl/Desktop/Spring/CS 5999 - MEng Project/Stimulus Dataset/New Dataset/Final Shortlisted Videos [Human + Robot -- Control + Failure]/withLag/fh9.mp4\n",
      "\n"
     ]
    },
    {
     "name": "stderr",
     "output_type": "stream",
     "text": [
      "                                                                                \r"
     ]
    },
    {
     "name": "stdout",
     "output_type": "stream",
     "text": [
      "Moviepy - Done !\n",
      "Moviepy - video ready /Users/sukruthgl/Desktop/Spring/CS 5999 - MEng Project/Stimulus Dataset/New Dataset/Final Shortlisted Videos [Human + Robot -- Control + Failure]/withLag/fh9.mp4\n",
      "fr1\n",
      "Moviepy - Building video /Users/sukruthgl/Desktop/Spring/CS 5999 - MEng Project/Stimulus Dataset/New Dataset/Final Shortlisted Videos [Human + Robot -- Control + Failure]/withLag/fr1.mp4.\n",
      "Moviepy - Writing video /Users/sukruthgl/Desktop/Spring/CS 5999 - MEng Project/Stimulus Dataset/New Dataset/Final Shortlisted Videos [Human + Robot -- Control + Failure]/withLag/fr1.mp4\n",
      "\n"
     ]
    },
    {
     "name": "stderr",
     "output_type": "stream",
     "text": [
      "                                                                                \r"
     ]
    },
    {
     "name": "stdout",
     "output_type": "stream",
     "text": [
      "Moviepy - Done !\n",
      "Moviepy - video ready /Users/sukruthgl/Desktop/Spring/CS 5999 - MEng Project/Stimulus Dataset/New Dataset/Final Shortlisted Videos [Human + Robot -- Control + Failure]/withLag/fr1.mp4\n",
      "fr10\n",
      "Moviepy - Building video /Users/sukruthgl/Desktop/Spring/CS 5999 - MEng Project/Stimulus Dataset/New Dataset/Final Shortlisted Videos [Human + Robot -- Control + Failure]/withLag/fr10.mp4.\n",
      "Moviepy - Writing video /Users/sukruthgl/Desktop/Spring/CS 5999 - MEng Project/Stimulus Dataset/New Dataset/Final Shortlisted Videos [Human + Robot -- Control + Failure]/withLag/fr10.mp4\n",
      "\n"
     ]
    },
    {
     "name": "stderr",
     "output_type": "stream",
     "text": [
      "                                                                                \r"
     ]
    },
    {
     "name": "stdout",
     "output_type": "stream",
     "text": [
      "Moviepy - Done !\n",
      "Moviepy - video ready /Users/sukruthgl/Desktop/Spring/CS 5999 - MEng Project/Stimulus Dataset/New Dataset/Final Shortlisted Videos [Human + Robot -- Control + Failure]/withLag/fr10.mp4\n",
      "fr2\n",
      "Moviepy - Building video /Users/sukruthgl/Desktop/Spring/CS 5999 - MEng Project/Stimulus Dataset/New Dataset/Final Shortlisted Videos [Human + Robot -- Control + Failure]/withLag/fr2.mp4.\n",
      "Moviepy - Writing video /Users/sukruthgl/Desktop/Spring/CS 5999 - MEng Project/Stimulus Dataset/New Dataset/Final Shortlisted Videos [Human + Robot -- Control + Failure]/withLag/fr2.mp4\n",
      "\n"
     ]
    },
    {
     "name": "stderr",
     "output_type": "stream",
     "text": [
      "                                                                                \r"
     ]
    },
    {
     "name": "stdout",
     "output_type": "stream",
     "text": [
      "Moviepy - Done !\n",
      "Moviepy - video ready /Users/sukruthgl/Desktop/Spring/CS 5999 - MEng Project/Stimulus Dataset/New Dataset/Final Shortlisted Videos [Human + Robot -- Control + Failure]/withLag/fr2.mp4\n",
      "fr3\n",
      "Moviepy - Building video /Users/sukruthgl/Desktop/Spring/CS 5999 - MEng Project/Stimulus Dataset/New Dataset/Final Shortlisted Videos [Human + Robot -- Control + Failure]/withLag/fr3.mp4.\n",
      "Moviepy - Writing video /Users/sukruthgl/Desktop/Spring/CS 5999 - MEng Project/Stimulus Dataset/New Dataset/Final Shortlisted Videos [Human + Robot -- Control + Failure]/withLag/fr3.mp4\n",
      "\n"
     ]
    },
    {
     "name": "stderr",
     "output_type": "stream",
     "text": [
      "                                                                                \r"
     ]
    },
    {
     "name": "stdout",
     "output_type": "stream",
     "text": [
      "Moviepy - Done !\n",
      "Moviepy - video ready /Users/sukruthgl/Desktop/Spring/CS 5999 - MEng Project/Stimulus Dataset/New Dataset/Final Shortlisted Videos [Human + Robot -- Control + Failure]/withLag/fr3.mp4\n",
      "fr4\n",
      "Moviepy - Building video /Users/sukruthgl/Desktop/Spring/CS 5999 - MEng Project/Stimulus Dataset/New Dataset/Final Shortlisted Videos [Human + Robot -- Control + Failure]/withLag/fr4.mp4.\n",
      "Moviepy - Writing video /Users/sukruthgl/Desktop/Spring/CS 5999 - MEng Project/Stimulus Dataset/New Dataset/Final Shortlisted Videos [Human + Robot -- Control + Failure]/withLag/fr4.mp4\n",
      "\n"
     ]
    },
    {
     "name": "stderr",
     "output_type": "stream",
     "text": [
      "                                                                                \r"
     ]
    },
    {
     "name": "stdout",
     "output_type": "stream",
     "text": [
      "Moviepy - Done !\n",
      "Moviepy - video ready /Users/sukruthgl/Desktop/Spring/CS 5999 - MEng Project/Stimulus Dataset/New Dataset/Final Shortlisted Videos [Human + Robot -- Control + Failure]/withLag/fr4.mp4\n",
      "fr5\n",
      "Moviepy - Building video /Users/sukruthgl/Desktop/Spring/CS 5999 - MEng Project/Stimulus Dataset/New Dataset/Final Shortlisted Videos [Human + Robot -- Control + Failure]/withLag/fr5.mp4.\n",
      "Moviepy - Writing video /Users/sukruthgl/Desktop/Spring/CS 5999 - MEng Project/Stimulus Dataset/New Dataset/Final Shortlisted Videos [Human + Robot -- Control + Failure]/withLag/fr5.mp4\n",
      "\n"
     ]
    },
    {
     "name": "stderr",
     "output_type": "stream",
     "text": [
      "                                                                                \r"
     ]
    },
    {
     "name": "stdout",
     "output_type": "stream",
     "text": [
      "Moviepy - Done !\n",
      "Moviepy - video ready /Users/sukruthgl/Desktop/Spring/CS 5999 - MEng Project/Stimulus Dataset/New Dataset/Final Shortlisted Videos [Human + Robot -- Control + Failure]/withLag/fr5.mp4\n",
      "fr6\n",
      "Moviepy - Building video /Users/sukruthgl/Desktop/Spring/CS 5999 - MEng Project/Stimulus Dataset/New Dataset/Final Shortlisted Videos [Human + Robot -- Control + Failure]/withLag/fr6.mp4.\n",
      "Moviepy - Writing video /Users/sukruthgl/Desktop/Spring/CS 5999 - MEng Project/Stimulus Dataset/New Dataset/Final Shortlisted Videos [Human + Robot -- Control + Failure]/withLag/fr6.mp4\n",
      "\n"
     ]
    },
    {
     "name": "stderr",
     "output_type": "stream",
     "text": [
      "                                                                                \r"
     ]
    },
    {
     "name": "stdout",
     "output_type": "stream",
     "text": [
      "Moviepy - Done !\n",
      "Moviepy - video ready /Users/sukruthgl/Desktop/Spring/CS 5999 - MEng Project/Stimulus Dataset/New Dataset/Final Shortlisted Videos [Human + Robot -- Control + Failure]/withLag/fr6.mp4\n",
      "fr7\n",
      "Moviepy - Building video /Users/sukruthgl/Desktop/Spring/CS 5999 - MEng Project/Stimulus Dataset/New Dataset/Final Shortlisted Videos [Human + Robot -- Control + Failure]/withLag/fr7.mp4.\n",
      "MoviePy - Writing audio in fr7TEMP_MPY_wvf_snd.mp3\n"
     ]
    },
    {
     "name": "stderr",
     "output_type": "stream",
     "text": [
      "                                                                                \r"
     ]
    },
    {
     "name": "stdout",
     "output_type": "stream",
     "text": [
      "MoviePy - Done.\n",
      "Moviepy - Writing video /Users/sukruthgl/Desktop/Spring/CS 5999 - MEng Project/Stimulus Dataset/New Dataset/Final Shortlisted Videos [Human + Robot -- Control + Failure]/withLag/fr7.mp4\n",
      "\n"
     ]
    },
    {
     "name": "stderr",
     "output_type": "stream",
     "text": [
      "                                                                                \r"
     ]
    },
    {
     "name": "stdout",
     "output_type": "stream",
     "text": [
      "Moviepy - Done !\n",
      "Moviepy - video ready /Users/sukruthgl/Desktop/Spring/CS 5999 - MEng Project/Stimulus Dataset/New Dataset/Final Shortlisted Videos [Human + Robot -- Control + Failure]/withLag/fr7.mp4\n",
      "fr8\n",
      "Moviepy - Building video /Users/sukruthgl/Desktop/Spring/CS 5999 - MEng Project/Stimulus Dataset/New Dataset/Final Shortlisted Videos [Human + Robot -- Control + Failure]/withLag/fr8.mp4.\n",
      "Moviepy - Writing video /Users/sukruthgl/Desktop/Spring/CS 5999 - MEng Project/Stimulus Dataset/New Dataset/Final Shortlisted Videos [Human + Robot -- Control + Failure]/withLag/fr8.mp4\n",
      "\n"
     ]
    },
    {
     "name": "stderr",
     "output_type": "stream",
     "text": [
      "                                                                                \r"
     ]
    },
    {
     "name": "stdout",
     "output_type": "stream",
     "text": [
      "Moviepy - Done !\n",
      "Moviepy - video ready /Users/sukruthgl/Desktop/Spring/CS 5999 - MEng Project/Stimulus Dataset/New Dataset/Final Shortlisted Videos [Human + Robot -- Control + Failure]/withLag/fr8.mp4\n",
      "fr9\n",
      "Moviepy - Building video /Users/sukruthgl/Desktop/Spring/CS 5999 - MEng Project/Stimulus Dataset/New Dataset/Final Shortlisted Videos [Human + Robot -- Control + Failure]/withLag/fr9.mp4.\n",
      "Moviepy - Writing video /Users/sukruthgl/Desktop/Spring/CS 5999 - MEng Project/Stimulus Dataset/New Dataset/Final Shortlisted Videos [Human + Robot -- Control + Failure]/withLag/fr9.mp4\n",
      "\n"
     ]
    },
    {
     "name": "stderr",
     "output_type": "stream",
     "text": [
      "                                                                                \r"
     ]
    },
    {
     "name": "stdout",
     "output_type": "stream",
     "text": [
      "Moviepy - Done !\n",
      "Moviepy - video ready /Users/sukruthgl/Desktop/Spring/CS 5999 - MEng Project/Stimulus Dataset/New Dataset/Final Shortlisted Videos [Human + Robot -- Control + Failure]/withLag/fr9.mp4\n"
     ]
    }
   ],
   "source": [
    "for element in elements:\n",
    "\n",
    "# #   Optional - depends on what files you have in the directory - check once in the previous cell's code\n",
    "#     if element == '.DS_Store' or element == 'withLag':\n",
    "#         continue\n",
    "\n",
    "    video = VideoFileClip(f'{newDirectory}/{element}')\n",
    "\n",
    "    # Create a black screen clip with duration\n",
    "    black_screen = ColorClip((video.w, video.h), color=(0, 0, 0), duration=1)\n",
    "\n",
    "    # # Concatenate the black screen clip with the original video\n",
    "    # final_clip = concatenate_videoclips([black_screen, video])\n",
    "\n",
    "    # Append the black screen clip to the end of the video\n",
    "    final_clip = CompositeVideoClip([video, black_screen.set_start(video.duration)])\n",
    "    \n",
    "    video_name_parts = element.split(\".\")\n",
    "    element = video_name_parts[0]\n",
    "    print('\\n', element)\n",
    "\n",
    "#     break\n",
    "    final_clip.write_videofile(f'{newDirectory}/withLag/{element}.mp4')"
   ]
  },
  {
   "cell_type": "code",
   "execution_count": null,
   "id": "adccd579",
   "metadata": {},
   "outputs": [],
   "source": []
  }
 ],
 "metadata": {
  "kernelspec": {
   "display_name": "Python 3 (ipykernel)",
   "language": "python",
   "name": "python3"
  },
  "language_info": {
   "codemirror_mode": {
    "name": "ipython",
    "version": 3
   },
   "file_extension": ".py",
   "mimetype": "text/x-python",
   "name": "python",
   "nbconvert_exporter": "python",
   "pygments_lexer": "ipython3",
   "version": "3.11.1"
  }
 },
 "nbformat": 4,
 "nbformat_minor": 5
}
