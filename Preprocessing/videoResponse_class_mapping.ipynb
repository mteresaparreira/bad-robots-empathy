{
 "cells": [
  {
   "cell_type": "markdown",
   "id": "76e52d4e",
   "metadata": {},
   "source": [
    "### The below code iterates through all the survey participants response videos and renames their recordings to their appropriate response class"
   ]
  },
  {
   "cell_type": "code",
   "execution_count": null,
   "id": "f9c766b7",
   "metadata": {},
   "outputs": [],
   "source": [
    "import os\n",
    "import copy"
   ]
  },
  {
   "cell_type": "code",
   "execution_count": null,
   "id": "31cdb6c7",
   "metadata": {},
   "outputs": [],
   "source": [
    "responseColumns = ['Q163#1_1', 'Q754#1_1', 'Q761#1_1', 'Q768#1_1', 'Q775#1_1', 'Q782#1_1',\n",
    "       'Q789#1_1', 'Q796#1_1', 'Q803#1_1', 'Q810#1_1', 'Q817#1_1', 'Q824#1_1',\n",
    "       'Q831#1_1', 'Q838#1_1', 'Q845#1_1', 'Q852#1_1', 'Q859#1_1', 'Q866#1_1',\n",
    "       'Q873#1_1', 'Q880#1_1', 'Q887#1_1', 'Q894#1_1', 'Q901#1_1', 'Q908#1_1',\n",
    "       'Q915#1_1', 'Q922#1_1', 'Q929#1_1', 'Q936#1_1', 'Q943#1_1', 'Q950#1_1']"
   ]
  },
  {
   "cell_type": "code",
   "execution_count": null,
   "id": "9fb2d8a7",
   "metadata": {},
   "outputs": [],
   "source": [
    "reactionVideoNumbers = []\n",
    "\n",
    "for col in responseColumns:\n",
    "    oldColNumber = col[1:4]\n",
    "    newColNumber = int(oldColNumber) - 3\n",
    "    newColName = 'QID' + str(newColNumber)\n",
    "    reactionVideoNumbers.append(newColName)"
   ]
  },
  {
   "cell_type": "code",
   "execution_count": null,
   "id": "c00a5105",
   "metadata": {
    "scrolled": true
   },
   "outputs": [],
   "source": [
    "# # Count: CH = 5, CR = 5, FH = 10, FR = 10\n",
    "\n",
    "contextResponse_colnames = reactionVideoNumbers\n",
    "videoResponse_mappings = {}\n",
    "\n",
    "Class = {1: [('Human Control', 'Control (H)'), 'ch', 1],\n",
    "         2: [('Robot Control', 'Control (R)'), 'cr', 1],\n",
    "         3: [('Human Failure', 'Failure (H)'), 'fh', 1],\n",
    "         4: [('Robot Failure', 'Failure (R)'), 'fr', 1]}\n",
    "\n",
    "total_vids_processed = 0\n",
    "\n",
    "for clas in range(len(Class)):\n",
    "    Class_ = copy.copy(Class)\n",
    "    \n",
    "    selectedClass = int(input('Enter the class of the stimulus video \\n1. Human Control \\n2. Robot Control \\n3. Human Failure \\n4. Robot Failure \\n\\n'))\n",
    "    _class = Class_[selectedClass]\n",
    "    rangeOfVideos = int(input('Enter the Number of stimulus videos of the corresponding class: '))\n",
    "\n",
    "    for _ in range(rangeOfVideos):\n",
    "        new_column = f'{_class[1]}{_class[2]}'\n",
    "        Class_[selectedClass][2] += 1\n",
    "        videoResponse_mappings[contextResponse_colnames[total_vids_processed + _]] = new_column\n",
    "    total_vids_processed += rangeOfVideos"
   ]
  },
  {
   "cell_type": "code",
   "execution_count": null,
   "id": "31de67b3",
   "metadata": {},
   "outputs": [],
   "source": [
    "studyParticipants_directory = '/Users/sukruthgl/Desktop/Spring/Courses/CS 5999 - MEng Project/StudyData/pilots'\n",
    "studyParticipants = os.listdir(studyParticipants_directory)\n",
    "\n",
    "elements_to_remove = ['Extracted Data', '.DS_Store']\n",
    "studyParticipants = [participant for participant in studyParticipants if participant not in elements_to_remove]"
   ]
  },
  {
   "cell_type": "code",
   "execution_count": null,
   "id": "4a29e6bc",
   "metadata": {},
   "outputs": [],
   "source": [
    "for participant in studyParticipants:\n",
    "    \n",
    "    participantDirectory = f'{studyParticipants_directory}/{participant}/mp4StudyVideo'\n",
    "    videoResponses = os.listdir(participantDirectory)\n",
    "    if ('.DS_Store' in videoResponses):\n",
    "        videoResponses.remove('.DS_Store')\n",
    "    \n",
    "    videoResponses_count = {}\n",
    "\n",
    "    for video in videoResponses:\n",
    "        mapping = videoResponse_mappings[video[:6]]\n",
    "        oldName = video\n",
    "\n",
    "        if mapping in videoResponses_count:\n",
    "            count = videoResponses_count[mapping]\n",
    "            count += 1\n",
    "            videoResponses_count[mapping] = count\n",
    "            os.rename(f'{participantDirectory}/{oldName}', f'{participantDirectory}/{mapping}_{count}.mp4')\n",
    "        else:\n",
    "            count = 1\n",
    "            videoResponses_count[mapping] = count\n",
    "            os.rename(f'{participantDirectory}/{oldName}', f'{participantDirectory}/{mapping}_{count}.mp4')"
   ]
  }
 ],
 "metadata": {
  "kernelspec": {
   "display_name": "Python 3 (ipykernel)",
   "language": "python",
   "name": "python3"
  },
  "language_info": {
   "codemirror_mode": {
    "name": "ipython",
    "version": 3
   },
   "file_extension": ".py",
   "mimetype": "text/x-python",
   "name": "python",
   "nbconvert_exporter": "python",
   "pygments_lexer": "ipython3",
   "version": "3.10.9"
  }
 },
 "nbformat": 4,
 "nbformat_minor": 5
}
