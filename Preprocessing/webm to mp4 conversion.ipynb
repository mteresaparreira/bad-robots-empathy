{
 "cells": [
  {
   "cell_type": "markdown",
   "id": "ec26cf6d",
   "metadata": {},
   "source": [
    "## The code below,\n",
    "\n",
    "1. Identifies all the studyData's survey response recordings\n",
    "2. Iterates over all the responses and converts each of its recordings from .webm to .mp4 video file format\n",
    "3. Identifies all the responses that are repeated for a particular stimulusVideo"
   ]
  },
  {
   "cell_type": "code",
   "execution_count": 110,
   "id": "5db16bf7",
   "metadata": {},
   "outputs": [],
   "source": [
    "import os\n",
    "import re\n",
    "import glob\n",
    "import subprocess\n",
    "import pandas as pd"
   ]
  },
  {
   "cell_type": "code",
   "execution_count": 111,
   "id": "a4009e3c",
   "metadata": {},
   "outputs": [],
   "source": [
    "studyDataDirectory = '/Users/sukruthgl/Desktop/Spring/CS 5999 - MEng Project/StudyData/pilots'\n",
    "participantLogDirectory = '/Users/sukruthgl/Desktop/Spring/CS 5999 - MEng Project/StudyData/pilots/participant_log.xlsx'\n",
    "studyUsers = os.listdir(studyDataDirectory)"
   ]
  },
  {
   "cell_type": "code",
   "execution_count": 112,
   "id": "66872a81",
   "metadata": {},
   "outputs": [
    {
     "name": "stdout",
     "output_type": "stream",
     "text": [
      "['6686', '8586', '6953', '5177', '8006', '8205', '6566', '7440', '6110', '3260', '1357', '5531', '2039', '3518', '4725', '8296', '7444', '1941', '8417', '6253', '3147', '9214', '1889']\n"
     ]
    }
   ],
   "source": [
    "participantIDPattern = r'^[0-9]{4}$'\n",
    "\n",
    "studyUsers = [user for user in studyUsers if re.match(participantIDPattern, user)]\n",
    "print(studyUsers)"
   ]
  },
  {
   "cell_type": "code",
   "execution_count": 113,
   "id": "c013940f",
   "metadata": {},
   "outputs": [],
   "source": [
    "# Iterates through all the studyUserData directories \n",
    "# and then creates a new directory and stores all the converted (\".webm\" to \".mp4\") files in it\n",
    "\n",
    "def convertVideo(studyUsers):\n",
    "    \n",
    "    for studyUser in studyUsers:\n",
    "\n",
    "        studyUserDirectory = studyDataDirectory + f'/{studyUser}'\n",
    "\n",
    "        # Creating a new directory to store the converted video files\n",
    "        studyUser_mp4Directory = studyUserDirectory + '/mp4StudyVideo'\n",
    "        os.mkdir(studyUser_mp4Directory)\n",
    "\n",
    "        # Changing the current working directory to the studyUserDirectory for the glob file to search for \".webm\" video files\n",
    "        os.chdir(studyUserDirectory)\n",
    "\n",
    "        for video in glob.glob(\"*.webm\"):\n",
    "            output_video = os.path.join(studyUser_mp4Directory, f\"{os.path.splitext(video)[0]}.mp4\")\n",
    "            subprocess.run([\"ffmpeg\", \"-i\", video, \"-r\", \"30\", output_video])\n",
    "            \n"
   ]
  },
  {
   "cell_type": "code",
   "execution_count": null,
   "id": "413b4b6a",
   "metadata": {
    "scrolled": false
   },
   "outputs": [],
   "source": [
    "convertVideo(studyUsers)"
   ]
  },
  {
   "cell_type": "code",
   "execution_count": 115,
   "id": "9574ff34",
   "metadata": {},
   "outputs": [
    {
     "name": "stdout",
     "output_type": "stream",
     "text": [
      "6686 \n",
      "8586 \n",
      "6953 \n",
      "5177 \n",
      "8006 QID947\n",
      "8205 \n",
      "6566 \n",
      "7440 \n",
      "6110 QID884, QID919, QID751\n",
      "3260 QID842, QID940, QID898, QID891\n",
      "1357 QID786, QID835, QID814, QID821, QID891, QID842, QID926, QID779, QID919, QID940, QID828, QID898, QID877, QID751\n",
      "5531 \n",
      "2039 \n",
      "3518 QID947, QID772, QID905, QID884, QID856, QID793, QID891, QID926, QID779\n",
      "4725 \n",
      "8296 \n",
      "7444 QID947, QID940\n",
      "1941 QID765, QID751, QID877\n",
      "8417 \n",
      "6253 QID765, QID905, QID835, QID849\n",
      "3147 QID814, QID891\n",
      "9214 \n",
      "1889 QID842, QID891, QID786\n"
     ]
    }
   ],
   "source": [
    "# NOTE:  Need to rewrite this to make it more efficient,\n",
    "# by appending the repeated recordings directly to the participant_log_df\n",
    "\n",
    "for studyUser in studyUsers:\n",
    "\n",
    "    studyUserDirectory = studyDataDirectory + f'/{studyUser}'\n",
    "    studyUser_mp4Directory = studyUserDirectory + f'/mp4StudyVideo'\n",
    "\n",
    "#     Obtaining all the recordings of the responses\n",
    "    recordings = os.listdir(studyUser_mp4Directory)\n",
    "    \n",
    "#     Splitting the responses to include only the stimulusVideoNumber\n",
    "    recording_IDs = []\n",
    "    for recording in recordings:\n",
    "        recording_IDs.append(recording.split(\"_\")[0])\n",
    "\n",
    "#     Creating a dict to identify the stimulusVideoNumbers and their count of views by the users\n",
    "    repeatedRecordings = {}\n",
    "    for recording_ID in recording_IDs:\n",
    "        if recording_ID in repeatedRecordings:\n",
    "            repeatedRecordings[recording_ID] += 1\n",
    "        else:\n",
    "            repeatedRecordings[recording_ID] = 1\n",
    "    \n",
    "#     Identifying the stimulusVideos for which there are multiple views by the users\n",
    "    repeatedResponses = []    \n",
    "    for recordingID, views in repeatedRecordings.items():\n",
    "        if (views >= 2):\n",
    "            repeatedResponses.append(recordingID)\n",
    "\n",
    "    repeatedResponses_string = ', '.join(repeatedResponses)\n",
    "    print(f'{studyUser}', repeatedResponses_string)\n",
    "\n",
    "#     repeatedResponses = studyUser, [recordingID for recordingID, views in repeatedRecordings.items() if (views >= 2)]\n",
    "# #     repeatedResponses = {recordingID: views for recordingID, views in repeatedRecordings.items() if (views >= 2)}\n",
    "#     print(repeatedResponses)\n",
    "    \n",
    "    "
   ]
  },
  {
   "cell_type": "code",
   "execution_count": null,
   "id": "74dcd05d",
   "metadata": {},
   "outputs": [],
   "source": [
    "# participant_log_df = pd.read_excel(participantLogDirectory)\n",
    "# participant_log_df"
   ]
  },
  {
   "cell_type": "code",
   "execution_count": null,
   "id": "3537602e",
   "metadata": {},
   "outputs": [],
   "source": []
  }
 ],
 "metadata": {
  "kernelspec": {
   "display_name": "Python 3 (ipykernel)",
   "language": "python",
   "name": "python3"
  },
  "language_info": {
   "codemirror_mode": {
    "name": "ipython",
    "version": 3
   },
   "file_extension": ".py",
   "mimetype": "text/x-python",
   "name": "python",
   "nbconvert_exporter": "python",
   "pygments_lexer": "ipython3",
   "version": "3.11.1"
  }
 },
 "nbformat": 4,
 "nbformat_minor": 5
}
