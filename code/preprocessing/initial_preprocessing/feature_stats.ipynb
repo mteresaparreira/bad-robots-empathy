{
 "cells": [
  {
   "cell_type": "markdown",
   "id": "57583460",
   "metadata": {},
   "source": [
    "### This notebook performs calculating statistical values on the features extracted from the participant responses of SuperBAD"
   ]
  },
  {
   "cell_type": "code",
   "execution_count": 1,
   "id": "25b80093",
   "metadata": {},
   "outputs": [],
   "source": [
    "import re\n",
    "import os\n",
    "import time\n",
    "import math\n",
    "import numpy as np\n",
    "import pandas as pd\n",
    "from tqdm import tqdm"
   ]
  },
  {
   "cell_type": "markdown",
   "id": "4a13542d",
   "metadata": {},
   "source": [
    "This block reads the feature dataset of an individual response of a participant, and then retains the relevant columns (features) on which the statistical values are to be calculated"
   ]
  },
  {
   "cell_type": "code",
   "execution_count": null,
   "id": "1b613935",
   "metadata": {
    "scrolled": true
   },
   "outputs": [],
   "source": [
    "# Read a random feature dataset of a participant\n",
    "participant_df = pd.read_csv('./csv_features_clean/1499/ch1_1.csv')\n",
    "\n",
    "# Ignore the columns that are not required\n",
    "cols_to_exclude = ['frame', 'face_id', 'timestamp']\n",
    "# Specify the columns that will be introduced in the statistical dataset\n",
    "feature_columns = ['participant_id', 'class', 'video']\n",
    "\n",
    "# Rename the columns selected from the feature dataset to specify what statistic is being calculated on that feature\n",
    "# i.e: average (_avg), standard deviation (_std)\n",
    "for col in participant_df.columns:\n",
    "    if col in cols_to_exclude:\n",
    "        continue\n",
    "    feature_columns.append(f'{col}_avg')\n",
    "    feature_columns.append(f'{col}_std')\n",
    "\n",
    "feature_columns"
   ]
  },
  {
   "cell_type": "code",
   "execution_count": 3,
   "id": "cff8b69b",
   "metadata": {},
   "outputs": [
    {
     "data": {
      "text/html": [
       "<div>\n",
       "<style scoped>\n",
       "    .dataframe tbody tr th:only-of-type {\n",
       "        vertical-align: middle;\n",
       "    }\n",
       "\n",
       "    .dataframe tbody tr th {\n",
       "        vertical-align: top;\n",
       "    }\n",
       "\n",
       "    .dataframe thead th {\n",
       "        text-align: right;\n",
       "    }\n",
       "</style>\n",
       "<table border=\"1\" class=\"dataframe\">\n",
       "  <thead>\n",
       "    <tr style=\"text-align: right;\">\n",
       "      <th></th>\n",
       "      <th>participant_id</th>\n",
       "      <th>class</th>\n",
       "      <th>video</th>\n",
       "      <th>confidence_avg</th>\n",
       "      <th>confidence_std</th>\n",
       "      <th>success_avg</th>\n",
       "      <th>success_std</th>\n",
       "      <th>gaze_0_x_avg</th>\n",
       "      <th>gaze_0_x_std</th>\n",
       "      <th>gaze_0_y_avg</th>\n",
       "      <th>...</th>\n",
       "      <th>AU23_c_avg</th>\n",
       "      <th>AU23_c_std</th>\n",
       "      <th>AU25_c_avg</th>\n",
       "      <th>AU25_c_std</th>\n",
       "      <th>AU26_c_avg</th>\n",
       "      <th>AU26_c_std</th>\n",
       "      <th>AU28_c_avg</th>\n",
       "      <th>AU28_c_std</th>\n",
       "      <th>AU45_c_avg</th>\n",
       "      <th>AU45_c_std</th>\n",
       "    </tr>\n",
       "  </thead>\n",
       "  <tbody>\n",
       "  </tbody>\n",
       "</table>\n",
       "<p>0 rows × 1425 columns</p>\n",
       "</div>"
      ],
      "text/plain": [
       "Empty DataFrame\n",
       "Columns: [participant_id, class, video, confidence_avg, confidence_std, success_avg, success_std, gaze_0_x_avg, gaze_0_x_std, gaze_0_y_avg, gaze_0_y_std, gaze_0_z_avg, gaze_0_z_std, gaze_1_x_avg, gaze_1_x_std, gaze_1_y_avg, gaze_1_y_std, gaze_1_z_avg, gaze_1_z_std, gaze_angle_x_avg, gaze_angle_x_std, gaze_angle_y_avg, gaze_angle_y_std, eye_lmk_x_0_avg, eye_lmk_x_0_std, eye_lmk_x_1_avg, eye_lmk_x_1_std, eye_lmk_x_2_avg, eye_lmk_x_2_std, eye_lmk_x_3_avg, eye_lmk_x_3_std, eye_lmk_x_4_avg, eye_lmk_x_4_std, eye_lmk_x_5_avg, eye_lmk_x_5_std, eye_lmk_x_6_avg, eye_lmk_x_6_std, eye_lmk_x_7_avg, eye_lmk_x_7_std, eye_lmk_x_8_avg, eye_lmk_x_8_std, eye_lmk_x_9_avg, eye_lmk_x_9_std, eye_lmk_x_10_avg, eye_lmk_x_10_std, eye_lmk_x_11_avg, eye_lmk_x_11_std, eye_lmk_x_12_avg, eye_lmk_x_12_std, eye_lmk_x_13_avg, eye_lmk_x_13_std, eye_lmk_x_14_avg, eye_lmk_x_14_std, eye_lmk_x_15_avg, eye_lmk_x_15_std, eye_lmk_x_16_avg, eye_lmk_x_16_std, eye_lmk_x_17_avg, eye_lmk_x_17_std, eye_lmk_x_18_avg, eye_lmk_x_18_std, eye_lmk_x_19_avg, eye_lmk_x_19_std, eye_lmk_x_20_avg, eye_lmk_x_20_std, eye_lmk_x_21_avg, eye_lmk_x_21_std, eye_lmk_x_22_avg, eye_lmk_x_22_std, eye_lmk_x_23_avg, eye_lmk_x_23_std, eye_lmk_x_24_avg, eye_lmk_x_24_std, eye_lmk_x_25_avg, eye_lmk_x_25_std, eye_lmk_x_26_avg, eye_lmk_x_26_std, eye_lmk_x_27_avg, eye_lmk_x_27_std, eye_lmk_x_28_avg, eye_lmk_x_28_std, eye_lmk_x_29_avg, eye_lmk_x_29_std, eye_lmk_x_30_avg, eye_lmk_x_30_std, eye_lmk_x_31_avg, eye_lmk_x_31_std, eye_lmk_x_32_avg, eye_lmk_x_32_std, eye_lmk_x_33_avg, eye_lmk_x_33_std, eye_lmk_x_34_avg, eye_lmk_x_34_std, eye_lmk_x_35_avg, eye_lmk_x_35_std, eye_lmk_x_36_avg, eye_lmk_x_36_std, eye_lmk_x_37_avg, eye_lmk_x_37_std, eye_lmk_x_38_avg, ...]\n",
       "Index: []\n",
       "\n",
       "[0 rows x 1425 columns]"
      ]
     },
     "execution_count": 3,
     "metadata": {},
     "output_type": "execute_result"
    }
   ],
   "source": [
    "# Visualize the statistical dataset\n",
    "stats_df = pd.DataFrame(columns = feature_columns)\n",
    "stats_df"
   ]
  },
  {
   "cell_type": "markdown",
   "id": "59995b8a",
   "metadata": {},
   "source": [
    "The below code ignores redundant files and identifies a list of participant files and featureResponse files\n",
    "<br>\n",
    "It iterates over each *participant* and all of their extracted features datasets (i.e: ch1.csv, ch2.csv, .., cr1.csv, cr2.csv, .., fr1.csv, fr2.csv, .., fh1.csv, fh2.csv, ..) and for each of the dataset, it calculates mean and standard deviation (statistics) for each of the feature columns and then stores it in the *stats_df*"
   ]
  },
  {
   "cell_type": "code",
   "execution_count": 4,
   "id": "eec96cca",
   "metadata": {},
   "outputs": [
    {
     "name": "stderr",
     "output_type": "stream",
     "text": [
      "Participant ID = 9214: 100%|██████████████████████| 29/29 [00:37<00:00,  1.30s/it]"
     ]
    },
    {
     "name": "stdout",
     "output_type": "stream",
     "text": [
      "Total Time = 37.663419008255005 seconds\n"
     ]
    },
    {
     "name": "stderr",
     "output_type": "stream",
     "text": [
      "\n"
     ]
    }
   ],
   "source": [
    "start_time = time.time()\n",
    "\n",
    "files_to_exclude = ['.DS_Store']\n",
    "\n",
    "featurePath = './csv_features_clean'\n",
    "participants = sorted([file for file in os.listdir(featurePath) if file not in files_to_exclude])\n",
    "\n",
    "with tqdm(total=len(participants)) as pbar:\n",
    "    for participant in participants:\n",
    "        participant_directory = f'{featurePath}/{participant}'\n",
    "\n",
    "        responses = sorted([file for file in os.listdir(participant_directory) if file not in files_to_exclude], key=lambda x: x.split('_')[0])\n",
    "\n",
    "        for response in responses:\n",
    "            response_df = pd.read_csv(f'{participant_directory}/{response}')\n",
    "\n",
    "            # Dictionary to store column statistics\n",
    "            col_stats = {}\n",
    "\n",
    "            for col in response_df.iloc[:, 3:]:\n",
    "                col_values = response_df[col].values\n",
    "                col_avg = col_values.mean()\n",
    "                col_std = col_values.std()\n",
    "                col_stats['participant_id'] = participant\n",
    "                col_stats['class'] = response[:2]\n",
    "                col_stats['video'] = os.path.splitext(response)[0]\n",
    "                col_stats[f'{col}_avg'] = col_avg\n",
    "                col_stats[f'{col}_std'] = col_std\n",
    "\n",
    "            # Concatenate col_stats as a row to stats_df    \n",
    "            stats_df = pd.concat([stats_df, pd.DataFrame([col_stats])])\n",
    "        pbar.update(1)\n",
    "        pbar.set_description(f'Participant ID = {participant}')\n",
    "\n",
    "end_time = time.time()\n",
    "total_time = end_time - start_time\n",
    "print(f'Total Time = {total_time} seconds')"
   ]
  },
  {
   "cell_type": "code",
   "execution_count": 5,
   "id": "c7a1fc68",
   "metadata": {},
   "outputs": [],
   "source": [
    "stats_df.to_csv('./allParticipant_feature_stats.csv', index=False)"
   ]
  }
 ],
 "metadata": {
  "kernelspec": {
   "display_name": "Python 3 (ipykernel)",
   "language": "python",
   "name": "python3"
  },
  "language_info": {
   "codemirror_mode": {
    "name": "ipython",
    "version": 3
   },
   "file_extension": ".py",
   "mimetype": "text/x-python",
   "name": "python",
   "nbconvert_exporter": "python",
   "pygments_lexer": "ipython3",
   "version": "3.10.9"
  }
 },
 "nbformat": 4,
 "nbformat_minor": 5
}
