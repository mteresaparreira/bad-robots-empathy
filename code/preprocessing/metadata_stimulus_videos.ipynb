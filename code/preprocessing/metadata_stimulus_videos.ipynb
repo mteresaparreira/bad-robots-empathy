{
 "cells": [
  {
   "cell_type": "markdown",
   "id": "81f8e600",
   "metadata": {},
   "source": [
    "This notebook calculates various metadata about the videos collected for the SuperBAD study\n",
    "\n",
    "- Stimulus Videos \n",
    "- Response Videos (of the study participants)"
   ]
  },
  {
   "cell_type": "code",
   "execution_count": 30,
   "id": "4442af6e",
   "metadata": {},
   "outputs": [],
   "source": [
    "import os\n",
    "import cv2\n",
    "import numpy as np\n",
    "import pandas as pd"
   ]
  },
  {
   "cell_type": "code",
   "execution_count": 31,
   "id": "4db1aa7e",
   "metadata": {},
   "outputs": [
    {
     "data": {
      "text/plain": [
       "['ch1.mp4',\n",
       " 'ch2.mp4',\n",
       " 'ch3.mp4',\n",
       " 'ch4.mp4',\n",
       " 'ch5.mp4',\n",
       " 'cr1.mp4',\n",
       " 'cr2.mp4',\n",
       " 'cr3.mp4',\n",
       " 'cr4.mp4',\n",
       " 'cr5.mp4',\n",
       " 'fh1.mp4',\n",
       " 'fh10.mp4',\n",
       " 'fh2.mp4',\n",
       " 'fh3.mp4',\n",
       " 'fh4.mp4',\n",
       " 'fh5.mp4',\n",
       " 'fh6.mp4',\n",
       " 'fh7.mp4',\n",
       " 'fh8.mp4',\n",
       " 'fh9.mp4',\n",
       " 'fr1.mp4',\n",
       " 'fr10.mp4',\n",
       " 'fr2.mp4',\n",
       " 'fr3.mp4',\n",
       " 'fr4.mp4',\n",
       " 'fr5.mp4',\n",
       " 'fr6.mp4',\n",
       " 'fr7.mp4',\n",
       " 'fr8.mp4',\n",
       " 'fr9.mp4']"
      ]
     },
     "execution_count": 31,
     "metadata": {},
     "output_type": "execute_result"
    }
   ],
   "source": [
    "files_to_ignore = ['.DS_Store']\n",
    "\n",
    "stimulus_video_path = '../../studyData/stimulusData/Final Shortlisted Videos [Human + Robot -- Control + Failure]/withLag/'\n",
    "stimulus_videos = os.listdir(stimulus_video_path)\n",
    "stimulus_videos = sorted([video for video in stimulus_videos if video not in files_to_ignore and video.split('.')[1] == 'mp4'])\n",
    "stimulus_videos"
   ]
  },
  {
   "cell_type": "code",
   "execution_count": 43,
   "id": "76dfbe03",
   "metadata": {},
   "outputs": [],
   "source": [
    "def getVideoDuration(video_path):\n",
    "    cap = cv2.VideoCapture(video_path)\n",
    "    if not cap.isOpened():\n",
    "        return None\n",
    "    \n",
    "    duration_seconds = int(cap.get(cv2.CAP_PROP_FRAME_COUNT)) / int(cap.get(cv2.CAP_PROP_FPS))    \n",
    "    cap.release()\n",
    "    \n",
    "    return round(duration_seconds, 2)"
   ]
  },
  {
   "cell_type": "code",
   "execution_count": 44,
   "id": "9fd08c97",
   "metadata": {},
   "outputs": [
    {
     "data": {
      "text/plain": [
       "{'ch1.mp4': 36.03,\n",
       " 'ch2.mp4': 11.7,\n",
       " 'ch3.mp4': 34.68,\n",
       " 'ch4.mp4': 7.7,\n",
       " 'ch5.mp4': 8.7,\n",
       " 'cr1.mp4': 10.62,\n",
       " 'cr2.mp4': 5.38,\n",
       " 'cr3.mp4': 16.1,\n",
       " 'cr4.mp4': 14.59,\n",
       " 'cr5.mp4': 27.28,\n",
       " 'fh1.mp4': 7.15,\n",
       " 'fh10.mp4': 12.52,\n",
       " 'fh2.mp4': 21.41,\n",
       " 'fh3.mp4': 10.97,\n",
       " 'fh4.mp4': 7.0,\n",
       " 'fh5.mp4': 7.9,\n",
       " 'fh6.mp4': 7.28,\n",
       " 'fh7.mp4': 10.26,\n",
       " 'fh8.mp4': 22.03,\n",
       " 'fh9.mp4': 13.08,\n",
       " 'fr1.mp4': 11.43,\n",
       " 'fr10.mp4': 7.72,\n",
       " 'fr2.mp4': 11.3,\n",
       " 'fr3.mp4': 8.0,\n",
       " 'fr4.mp4': 11.3,\n",
       " 'fr5.mp4': 16.5,\n",
       " 'fr6.mp4': 21.33,\n",
       " 'fr7.mp4': 8.53,\n",
       " 'fr8.mp4': 6.93,\n",
       " 'fr9.mp4': 15.38}"
      ]
     },
     "execution_count": 44,
     "metadata": {},
     "output_type": "execute_result"
    }
   ],
   "source": [
    "stimulus_video_durations = {}\n",
    "\n",
    "for video in stimulus_videos:\n",
    "    video_path = f'{stimulus_video_path}{video}'\n",
    "    stimulus_video_durations[video] = getVideoDuration(video_path)\n",
    "#     print(f\"Video duration of {video}: {stimulus_video_durations[video]:.2f} s\")\n",
    "stimulus_video_durations"
   ]
  },
  {
   "cell_type": "code",
   "execution_count": 56,
   "id": "1c229cec",
   "metadata": {},
   "outputs": [
    {
     "name": "stdout",
     "output_type": "stream",
     "text": [
      "Stimulus Video Duration Mean Value = 13.69s\n",
      "Stimulus Video Duration Std Value = 7.77s\n",
      "Stimulus Video Duration Max Value = 36.03s\n",
      "Stimulus Video Duration Min Value = 5.38s\n"
     ]
    }
   ],
   "source": [
    "stimulus_durations = np.array(list(stimulus_video_durations.values()))\n",
    "stimulus_video_duration_mean = stimulus_durations.mean()\n",
    "stimulus_video_duration_std = stimulus_durations.std()\n",
    "stimulus_video_duration_max = stimulus_durations.max()\n",
    "stimulus_video_duration_min = stimulus_durations.min()\n",
    "\n",
    "print(f'Stimulus Video Duration Mean Value = {stimulus_video_duration_mean:.2f}s')\n",
    "print(f'Stimulus Video Duration Std Value = {stimulus_video_duration_std:.2f}s')\n",
    "print(f'Stimulus Video Duration Max Value = {stimulus_video_duration_max:.2f}s')\n",
    "print(f'Stimulus Video Duration Min Value = {stimulus_video_duration_min:.2f}s')"
   ]
  },
  {
   "cell_type": "code",
   "execution_count": null,
   "id": "b384d15f",
   "metadata": {},
   "outputs": [],
   "source": []
  }
 ],
 "metadata": {
  "kernelspec": {
   "display_name": "Python 3 (ipykernel)",
   "language": "python",
   "name": "python3"
  },
  "language_info": {
   "codemirror_mode": {
    "name": "ipython",
    "version": 3
   },
   "file_extension": ".py",
   "mimetype": "text/x-python",
   "name": "python",
   "nbconvert_exporter": "python",
   "pygments_lexer": "ipython3",
   "version": "3.10.9"
  }
 },
 "nbformat": 4,
 "nbformat_minor": 5
}
