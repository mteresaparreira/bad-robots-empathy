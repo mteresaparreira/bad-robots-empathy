{
 "cells": [
  {
   "cell_type": "markdown",
   "id": "907a154d",
   "metadata": {},
   "source": [
    "This notebook identifies the best model combinations for the allParticipants_5fps_norm.csv dataset that has been fed to a transformer model to classify the responseVideos of the superbad study"
   ]
  },
  {
   "cell_type": "code",
   "execution_count": 26,
   "id": "d4911a4d",
   "metadata": {},
   "outputs": [],
   "source": [
    "import os\n",
    "import re\n",
    "import numpy as np\n",
    "import pandas as pd"
   ]
  },
  {
   "cell_type": "code",
   "execution_count": 27,
   "id": "db442357",
   "metadata": {},
   "outputs": [],
   "source": [
    "def top_model(results_file_path, sequence_lengths):\n",
    "    top_model_rows_df = pd.DataFrame()\n",
    "\n",
    "    for seq_len in sequence_lengths:\n",
    "        results_path = f'{results_file_path}{seq_len}.csv'\n",
    "        results_df = pd.read_csv(results_path)\n",
    "        df = results_df.copy()\n",
    "\n",
    "        for indx, row in df.iterrows():\n",
    "            if abs(row['Test Accuracy'] - row['Train Accuracy']) > 0.15:\n",
    "#                 print(abs(row['Test Accuracy'] - row['Train Accuracy']))\n",
    "                df.drop(indx, inplace = True)\n",
    "\n",
    "        df['sequence_length'] = seq_len\n",
    "        top_model = df['Test Accuracy'].nlargest(1)\n",
    "        top_model_index = top_model.index\n",
    "        top_model_rows_df = pd.concat([top_model_rows_df, df.loc[top_model_index]], ignore_index=True)\n",
    "\n",
    "    return top_model_rows_df"
   ]
  },
  {
   "cell_type": "code",
   "execution_count": 29,
   "id": "4f91e4d5",
   "metadata": {},
   "outputs": [
    {
     "data": {
      "text/html": [
       "<div>\n",
       "<style scoped>\n",
       "    .dataframe tbody tr th:only-of-type {\n",
       "        vertical-align: middle;\n",
       "    }\n",
       "\n",
       "    .dataframe tbody tr th {\n",
       "        vertical-align: top;\n",
       "    }\n",
       "\n",
       "    .dataframe thead th {\n",
       "        text-align: right;\n",
       "    }\n",
       "</style>\n",
       "<table border=\"1\" class=\"dataframe\">\n",
       "  <thead>\n",
       "    <tr style=\"text-align: right;\">\n",
       "      <th></th>\n",
       "      <th>Name</th>\n",
       "      <th>State</th>\n",
       "      <th>Notes</th>\n",
       "      <th>User</th>\n",
       "      <th>Tags</th>\n",
       "      <th>Created</th>\n",
       "      <th>Runtime</th>\n",
       "      <th>Sweep</th>\n",
       "      <th>batch_size</th>\n",
       "      <th>dropout_prob</th>\n",
       "      <th>...</th>\n",
       "      <th>Test Accuracy</th>\n",
       "      <th>Test Macro F1</th>\n",
       "      <th>Test Macro Precision</th>\n",
       "      <th>Test Macro Recall</th>\n",
       "      <th>Train Accuracy</th>\n",
       "      <th>Train Macro F1</th>\n",
       "      <th>Train Macro Precision</th>\n",
       "      <th>Train Macro Recall</th>\n",
       "      <th>message</th>\n",
       "      <th>sequence_length</th>\n",
       "    </tr>\n",
       "  </thead>\n",
       "  <tbody>\n",
       "    <tr>\n",
       "      <th>0</th>\n",
       "      <td>chocolate-sweep-113</td>\n",
       "      <td>finished</td>\n",
       "      <td>-</td>\n",
       "      <td>mteresaparreira</td>\n",
       "      <td>NaN</td>\n",
       "      <td>2023-09-24T11:44:33.000Z</td>\n",
       "      <td>1267</td>\n",
       "      <td>vgch5af0</td>\n",
       "      <td>512</td>\n",
       "      <td>0.6</td>\n",
       "      <td>...</td>\n",
       "      <td>0.487096</td>\n",
       "      <td>0.33294</td>\n",
       "      <td>0.372137</td>\n",
       "      <td>0.360327</td>\n",
       "      <td>0.631532</td>\n",
       "      <td>0.395795</td>\n",
       "      <td>0.620393</td>\n",
       "      <td>0.42485</td>\n",
       "      <td>GOT HERE 3</td>\n",
       "      <td>5</td>\n",
       "    </tr>\n",
       "  </tbody>\n",
       "</table>\n",
       "<p>1 rows × 24 columns</p>\n",
       "</div>"
      ],
      "text/plain": [
       "                  Name     State Notes             User  Tags  \\\n",
       "0  chocolate-sweep-113  finished     -  mteresaparreira   NaN   \n",
       "\n",
       "                    Created  Runtime     Sweep  batch_size  dropout_prob  ...  \\\n",
       "0  2023-09-24T11:44:33.000Z     1267  vgch5af0         512           0.6  ...   \n",
       "\n",
       "   Test Accuracy Test Macro F1  Test Macro Precision  Test Macro Recall  \\\n",
       "0       0.487096       0.33294              0.372137           0.360327   \n",
       "\n",
       "   Train Accuracy  Train Macro F1  Train Macro Precision  Train Macro Recall  \\\n",
       "0        0.631532        0.395795               0.620393             0.42485   \n",
       "\n",
       "      message  sequence_length  \n",
       "0  GOT HERE 3                5  \n",
       "\n",
       "[1 rows x 24 columns]"
      ]
     },
     "execution_count": 29,
     "metadata": {},
     "output_type": "execute_result"
    }
   ],
   "source": [
    "results_file_path = f'../../model_results/transformers/transformer/transformer_'\n",
    "output_path = f'../../model_results/transformers/transformer/'\n",
    "sequence_lengths = [5, 10, 15]\n",
    "\n",
    "top_model_df = top_model(results_file_path, sequence_lengths)\n",
    "top_model_df"
   ]
  },
  {
   "cell_type": "code",
   "execution_count": 30,
   "id": "61ac69f9",
   "metadata": {},
   "outputs": [],
   "source": [
    "top_model_df.to_csv(f'{output_path}top_models_all_sequence_lengths.csv')"
   ]
  },
  {
   "cell_type": "code",
   "execution_count": null,
   "id": "e8497a88",
   "metadata": {},
   "outputs": [],
   "source": []
  }
 ],
 "metadata": {
  "kernelspec": {
   "display_name": "Python 3 (ipykernel)",
   "language": "python",
   "name": "python3"
  },
  "language_info": {
   "codemirror_mode": {
    "name": "ipython",
    "version": 3
   },
   "file_extension": ".py",
   "mimetype": "text/x-python",
   "name": "python",
   "nbconvert_exporter": "python",
   "pygments_lexer": "ipython3",
   "version": "3.10.9"
  }
 },
 "nbformat": 4,
 "nbformat_minor": 5
}
